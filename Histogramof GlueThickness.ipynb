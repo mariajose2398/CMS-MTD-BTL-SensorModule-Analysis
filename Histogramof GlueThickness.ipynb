{
 "cells": [
  {
   "cell_type": "code",
   "execution_count": 1,
   "metadata": {},
   "outputs": [],
   "source": [
    "import numpy as np\n",
    "import matplotlib.pyplot as plt\n"
   ]
  },
  {
   "cell_type": "code",
   "execution_count": 2,
   "metadata": {},
   "outputs": [],
   "source": [
    "L1S2=np.array([[58.918,58.942,58.982,59.010,58.994],\n",
    "               [58.908,58.946,58.997,59.001,59.000],\n",
    "               [58.905,58.945,58.983,59.011,58.995],\n",
    "               [58.903,58.948,59.000,58.988,58.985],\n",
    "               [58.905,58.951,58.990,59.007,58.993],\n",
    "               [58.901,58.947,58.984,58.995,58.995\n",
    "               [58.895,58.946,59.003,59.015,58.984],\n",
    "               [58.894,58.937,58.978,58.993,58.982],\n",
    "               [58.896,58.928,58.980,58.995,58.971],\n",
    "               [58.898,58.942,58.976,59.005,59.000],\n",
    "               [58.900,58.939,58.986,58.997,59.000],\n",
    "               [58.900,58.941,58.979,58.996,58.992],\n",
    "               [58.904,58.989,59.007,58.974,58.941,\n",
    "               [58.898,59.000,59.005,58.976,58.942],\n",
    "L3S3=np.array([[59.087,59.127,59.137,59.046,58.924],\n",
    "               [59.085,59.127,59.134,59.026,58.915],\n",
    "               [59.078,59.127,59.133,59.025,58.905],\n",
    "               [59.091,59.134,59.128,59.045,58.930],\n",
    "               [59.099,59.132,59.131,59.043,58.934]])\n",
    "L2S4=np.array([[58.701,58.787,58.872,58.864,58.846],\n",
    "               [58.701,58.782,58.863,58.862,58.850],\n",
    "               [58.711,58.785,58.854,58.863,58.847],\n",
    "               [58.704,58.781,58.866,58.863,58.847]])\n",
    "L6S1 = np.array([[59.146,59.169,59.206,59.162,59.125],\n",
    "                 [59.147,59.154,59.159,59.155,59.134],\n",
    "                 [59.155,59.165,59.171,59.160,59.152],\n",
    "                 [59.144,59.163,59.167,59.159,59.139]])\n",
    "L4S5=np.array([[59.130,59.168,59.164,59.147,59.093],\n",
    "               [59.128,59.159,59.158,59.143,59.085],\n",
    "               [59.130,59.160,59.161,59.143,59.090]])\n",
    "L5S10=np.array([[59.114,59.167,59.234,59.183,59.142],\n",
    "                [59.115,59.143,59.223,59.177,59.139],\n",
    "                [59.116,59.158,59.232,59.185,59.141]])"
   ]
  },
  {
   "cell_type": "code",
   "execution_count": 3,
   "metadata": {},
   "outputs": [],
   "source": [
    "L1=np.array([[56.588,56.639,56.709,56.682,56.662],\n",
    "             [56.577,56.611,56.654, 56.659,56.602]])\n",
    "L3= np.array([[56.706,56.729,56.745, 56.693, 56.614],\n",
    "              [56.706,56.729,56.744,56.691,56.619]])\n",
    "L2= np.array([[56.380,56.519,56.535,56.509,56.466],\n",
    "              [56.377,56.473,56.522,56.500,56.454],\n",
    "              [56.376,56.457,56.526,56.499,56.450]])\n",
    "L6 =np.array([[56.838,56.849,56.829,56.816,56.782],\n",
    "              [56.831,56.842,56.842,56.824,56.783],\n",
    "              [56.830,56.835,56.832,56.825,56.795],\n",
    "              [56.831,56.849,56.835,56.828,56.788]])\n",
    "L4=np.array([[56.808,56.830,56.825,56.796,56.747],\n",
    "             [56.810,56.820,56.827,56.795,56.749]])\n",
    "L5=np.array([[56.789,56.811,56.866,56.811,56.782],\n",
    "             [56.782,56.815,56.861,56.810,56.779],\n",
    "             [56.838,56.849,56.829,56.816,56.782]])"
   ]
  },
  {
   "cell_type": "code",
   "execution_count": 4,
   "metadata": {},
   "outputs": [],
   "source": [
    "S2=np.array([[2.309,2.309,2.306,2.309,2.308]])\n",
    "S3= np.array([[2.308,2.312,2.306,2.306,2.309],\n",
    "              [2.310,2.310,2.307,2.308,2.308]])\n",
    "S4= np.array([[2.309,2.308,2.308,2.309,2.309],\n",
    "              [2.306,2.308,2.306,2.307,2.307]])\n",
    "S1=np.array([[2.310,2.310,2.309,2.308,2.308],\n",
    "             [2.305,2.306,2.307,2.306,2.309]])\n",
    "S5=np.array([[2.310,2.309,2.311,2.309,2.310],\n",
    "             [2.307,2.308,2.307,2.309,2.308]])\n",
    "S10=np.array([[2.312,2.312,2.311,2.313,2.313],\n",
    "              [2.313,2.311,2.308,2.311,2.311]])"
   ]
  },
  {
   "cell_type": "code",
   "execution_count": 46,
   "metadata": {},
   "outputs": [
    {
     "data": {
      "image/png": "[encoded data removed]",
      "text/plain": [
       "<matplotlib.figure.Figure at 0x7f144e46a588>"
      ]
     },
     "metadata": {
      "needs_background": "light"
     },
     "output_type": "display_data"
    }
   ],
   "source": [
    "L1S2G= (L1S2-np.mean(L1, axis=0)-np.mean(S2, axis=0))*1000\n",
    "L2S4G= (L2S4-np.mean(L2, axis=0)-np.mean(S4, axis=0))*1000\n",
    "L3S3G= (L3S3-np.mean(L3, axis=0)-np.mean(S3, axis=0))*1000\n",
    "L6S1G= (L6S1-np.mean(L6, axis=0)-np.mean(S1, axis=0))*1000\n",
    "L4S5G= (L4S5-np.mean(L4, axis=0)-np.mean(S5, axis=0))*1000\n",
    "L5S10G= (L5S10-np.mean(L5, axis=0)-np.mean(S10, axis=0))*1000\n",
    "GlueThickness=np.concatenate((L1S2G, L2S4G, L3S3G, L4S5G,L6S1G,L5S10G) )\n",
    "GlueThicknessAvg=np.mean(GlueThickness, axis=1)\n",
    "plt.hist(GlueThicknessAvg[:14], bins=[0, 10, 20, 30, 40, 50, 60, 70], label=\"L1S2\")\n",
    "plt.hist(GlueThicknessAvg[14:18], bins=[0, 10, 20, 30, 40, 50, 60, 70], label=\"L2S4\")\n",
    "plt.hist(GlueThicknessAvg[18:23], bins=[0, 10, 20, 30, 40, 50, 60, 70], label=\"L3S3\")\n",
    "plt.hist(GlueThicknessAvg[23:26], bins=[0, 10, 20, 30, 40, 50, 60, 70], label=\"L4S5\")\n",
    "plt.hist(GlueThicknessAvg[26:29], bins=[0, 10, 20, 30, 40, 50, 60, 70], label =\"L5S10\")\n",
    "plt.hist(GlueThicknessAvg[29:-1], bins=[0, 10, 20, 30, 40, 50, 60, 70], label=\"L6S1\")\n",
    "plt.legend()\n",
    "plt.xlabel(r\"Glue Thickness($\\mu m$)\")\n",
    "plt.ylabel(\"Frequency\")\n",
    "plt.savefig(\"histogram_glue_thickness_each_module.png\")"
   ]
  },
  {
   "cell_type": "code",
   "execution_count": 48,
   "metadata": {},
   "outputs": [
    {
     "data": {
      "image/png": "[encoded data removed]",
      "text/plain": [
       "<matplotlib.figure.Figure at 0x7f144608eba8>"
      ]
     },
     "metadata": {
      "needs_background": "light"
     },
     "output_type": "display_data"
    }
   ],
   "source": [
    "plt.hist(GlueThicknessAvg, bins=[-10,0, 10, 20, 30, 40, 50, 60, 70])\n",
    "plt.xlabel(r\"Glue Thickness($\\mu m$)\")\n",
    "plt.ylabel(\"Frequency\")\n",
    "plt.savefig(\"histogram_gluethickness.png\")"
   ]
  },
  {
   "cell_type": "code",
   "execution_count": null,
   "metadata": {},
   "outputs": [],
   "source": []
  }
 ],
 "metadata": {
  "kernelspec": {
   "display_name": "Python 3",
   "language": "python",
   "name": "python3"
  },
  "language_info": {
   "codemirror_mode": {
    "name": "ipython",
    "version": 3
   },
   "file_extension": ".py",
   "mimetype": "text/x-python",
   "name": "python",
   "nbconvert_exporter": "python",
   "pygments_lexer": "ipython3",
   "version": "3.6.9"
  }
 },
 "nbformat": 4,
 "nbformat_minor": 4
}
